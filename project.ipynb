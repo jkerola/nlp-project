{
 "cells": [
  {
   "cell_type": "markdown",
   "metadata": {},
   "source": [
    "# Project 22\n",
    "Janne Kerola Y44019938"
   ]
  },
  {
   "cell_type": "code",
   "execution_count": 1,
   "metadata": {},
   "outputs": [
    {
     "data": {
      "text/html": [
       "\n",
       "                <script type=\"application/javascript\" id=\"jupyter_black\">\n",
       "                (function() {\n",
       "                    if (window.IPython === undefined) {\n",
       "                        return\n",
       "                    }\n",
       "                    var msg = \"WARNING: it looks like you might have loaded \" +\n",
       "                        \"jupyter_black in a non-lab notebook with \" +\n",
       "                        \"`is_lab=True`. Please double check, and if \" +\n",
       "                        \"loading with `%load_ext` please review the README!\"\n",
       "                    console.log(msg)\n",
       "                    alert(msg)\n",
       "                })()\n",
       "                </script>\n",
       "                "
      ],
      "text/plain": [
       "<IPython.core.display.HTML object>"
      ]
     },
     "metadata": {},
     "output_type": "display_data"
    }
   ],
   "source": [
    "%load_ext jupyter_black\n",
    "import nltk\n",
    "from bs4 import BeautifulSoup\n",
    "import requests"
   ]
  },
  {
   "cell_type": "markdown",
   "metadata": {},
   "source": [
    "# 1 Webjaccard function"
   ]
  },
  {
   "cell_type": "code",
   "execution_count": 2,
   "metadata": {},
   "outputs": [],
   "source": [
    "def get_results(query: str):\n",
    "    cookies = {\"CONSENT\": \"YES+cb.20220419-08-p0.cs+FX+111\"}\n",
    "    headers = {\n",
    "        \"User-Agent\": \"Mozilla/5.0 (X11; Ubuntu; Linux x86_64; rv:109.0) Gecko/20100101 Firefox/118.0\"\n",
    "    }\n",
    "    baseurl = \"https://www.google.com/search?q=\"\n",
    "    url = baseurl + query\n",
    "    response = requests.get(url, headers=headers, cookies=cookies)\n",
    "    html = response.content\n",
    "    soup = BeautifulSoup(html, \"lxml\")\n",
    "    sent = soup.find(attrs={\"id\": \"result-stats\"})\n",
    "    num = sent.text.split(\" \")[1]\n",
    "    num = num.replace(\"\\xa0\", \"\")\n",
    "    return int(num)\n",
    "\n",
    "\n",
    "def get_webjaccard(Q: str, P: str) -> float:\n",
    "    \"\"\"P&Q / ( P&Q + P&!Q + Q&!P)\"\"\"\n",
    "    p_and_q = get_results(P + \"+\" + Q)\n",
    "    p_not_q = get_results(P + \"+\" + \"-\" + Q)\n",
    "    q_not_p = get_results(Q + \"+\" + \"-\" + P)\n",
    "    return p_and_q / (p_and_q + p_not_q + q_not_p)"
   ]
  },
  {
   "cell_type": "markdown",
   "metadata": {},
   "source": [
    "# 2 Science words"
   ]
  },
  {
   "cell_type": "code",
   "execution_count": 3,
   "metadata": {},
   "outputs": [],
   "source": [
    "# Synonyms\n",
    "p_list = \"analysis workshop conclusion reaction review peer citation proof argument research topic plagiarism paraphrase equipment university department hypothesis theory labrat synthesis telegraph method design disagreement funding publish conference community recognition professor\".split(\n",
    "    \" \"\n",
    ")\n",
    "q_list = \"experiment lab result counteraction audit associate quotation verification debate probe field infringement rehash machinery academy bureau premise concept subject fusion transmission approach composition antagonism backing announce symposium people respect educator\".split(\n",
    "    \" \"\n",
    ")\n",
    "syn_pairs = []\n",
    "for i in range(0, 30):\n",
    "    syn_pairs.append((p_list[i], q_list[i]))\n",
    "synonyms = [get_webjaccard(n[0], n[1]) for n in syn_pairs]"
   ]
  },
  {
   "cell_type": "code",
   "execution_count": 4,
   "metadata": {},
   "outputs": [],
   "source": [
    "# Antonyms\n",
    "ant_words = \"conclusion beginning reaction cause review neglect peer inferior citation demerit proof theory argument agreement research ignorance topic fact plagiarism originality paraphrase quotation department whole synthesis separation method disorganization design being publish conceal conference silence community dissimilarity recognition dishonor career recreation distinguish confuse verify invalidate invent destroy collaborate part educate learn question answer superhuman common genetic acquired disease health altered retained\".split()\n",
    "ant_pairs = []\n",
    "for i in range(0, len(ant_words), 2):\n",
    "    ant_pairs.append((ant_words[i], ant_words[i + 1]))\n",
    "antonyms = [get_webjaccard(n[0], n[1]) for n in ant_pairs]"
   ]
  },
  {
   "cell_type": "code",
   "execution_count": 5,
   "metadata": {},
   "outputs": [],
   "source": [
    "# Hypernyms\n",
    "hyp_words = \"astrology physics math archeology history pedagogy biology chemisty zoology medicine statistics metereology botany politics engineering psychology geography art geology business finance economics sociology anthropology agriculture computer logic earth applied social\".split(\n",
    "    \" \"\n",
    ")\n",
    "hyp_pairs = [(\"science\", x) for x in hyp_words]\n",
    "hypernyms = [get_webjaccard(n[0], n[1]) for n in hyp_pairs]"
   ]
  },
  {
   "cell_type": "code",
   "execution_count": null,
   "metadata": {},
   "outputs": [],
   "source": [
    "%%script false --no-raise-error\n",
    "# Save to data locally\n",
    "with open(\"data/synonyms.txt\", \"w\") as file:\n",
    "    file.write(\", \".join(f\"{x[0], x[1]}\" for x in syn_pairs))\n",
    "    file.write(\"\\n\")\n",
    "    file.write(\", \".join(f\"{x}\" for x in synonyms))\n",
    "\n",
    "with open(\"data/antonyms.txt\", \"w\") as file:\n",
    "    file.write(\", \".join(f\"{x[0], x[1]}\" for x in ant_pairs))\n",
    "    file.write(\"\\n\")\n",
    "    file.write(\", \".join(f\"{x}\" for x in antonyms))\n",
    "\n",
    "with open(\"data/hypernyms.txt\", \"w\") as file:\n",
    "    file.write(\", \".join(f\"{x[0], x[1]}\" for x in hyp_pairs))\n",
    "    file.write(\"\\n\")\n",
    "    file.write(\", \".join(f\"{x}\" for x in hypernyms))"
   ]
  },
  {
   "cell_type": "code",
   "execution_count": 6,
   "metadata": {},
   "outputs": [],
   "source": [
    "from statistics import stdev\n",
    "from scipy.stats import kurtosis\n",
    "\n",
    "# Calculating mean,stdev and kurtosis\n",
    "\n",
    "items = [synonyms, antonyms, hypernyms]\n",
    "means = [sum(x) / len(x) for x in items]\n",
    "deviation = [stdev(x) for x in items]\n",
    "kurtosis = [kurtosis(x) for x in items]\n",
    "total = [sum(x) / len(x) for x in [means, deviation, kurtosis]]"
   ]
  },
  {
   "cell_type": "code",
   "execution_count": 7,
   "metadata": {},
   "outputs": [
    {
     "data": {
      "text/markdown": [
       "\n",
       "|Dataset|Average|Std. deviation|Kurtosis|\n",
       "|---|---|---|---|\n",
       "|Synonyms|0.0976|0.0852|-0.1652|\n",
       "|Antonyms|0.0941|0.1303|1.8126|\n",
       "|Hypernyms|0.1287|0.0956|-0.4578|\n",
       "|Total average|0.1068|0.1037|0.3965|\n"
      ],
      "text/plain": [
       "<IPython.core.display.Markdown object>"
      ]
     },
     "execution_count": 7,
     "metadata": {},
     "output_type": "execute_result"
    }
   ],
   "source": [
    "from IPython.display import Markdown\n",
    "import numpy as np\n",
    "\n",
    "# Display results in a markdown table\n",
    "\n",
    "magic = np.array([means, deviation, kurtosis]).T.tolist()\n",
    "magic = [j for sub in magic for j in sub]\n",
    "Markdown(\n",
    "    \"\"\"\n",
    "|Dataset|Average|Std. deviation|Kurtosis|\n",
    "|---|---|---|---|\n",
    "|Synonyms|{:.4f}|{:.4f}|{:.4f}|\n",
    "|Antonyms|{:.4f}|{:.4f}|{:.4f}|\n",
    "|Hypernyms|{:.4f}|{:.4f}|{:.4f}|\n",
    "|Total average|{:.4f}|{:.4f}|{:.4f}|\n",
    "\"\"\".format(\n",
    "        *magic, *total\n",
    "    )\n",
    ")"
   ]
  },
  {
   "cell_type": "markdown",
   "metadata": {},
   "source": [
    "# 3 Wordnet semantic similarity"
   ]
  },
  {
   "cell_type": "code",
   "execution_count": 8,
   "metadata": {},
   "outputs": [],
   "source": [
    "from nltk.corpus import wordnet as wn\n",
    "from nltk.corpus.reader.wordnet import WordNetError\n",
    "\n",
    "# nltk.download(\"wordnet\")\n",
    "\n",
    "# Function definitions\n",
    "\n",
    "\n",
    "def get_pair_similarity(pair: tuple):\n",
    "    try:\n",
    "        a = wn.synsets(pair[0])[0]\n",
    "        b = wn.synsets(pair[1])[0]\n",
    "        return a.wup_similarity(b)\n",
    "    except IndexError:\n",
    "        return 0\n",
    "\n",
    "\n",
    "def get_path_similarity(pair: tuple):\n",
    "    try:\n",
    "        a = wn.synsets(pair[0])[0]\n",
    "        b = wn.synsets(pair[1])[0]\n",
    "        return a.path_similarity(b)\n",
    "    except IndexError:\n",
    "        return 0\n",
    "\n",
    "\n",
    "def get_lch_similarity(pair: tuple):\n",
    "    try:\n",
    "        a = wn.synsets(pair[0])[0]\n",
    "        b = wn.synsets(pair[1])[0]\n",
    "        return a.lch_similarity(b, simulate_root=False)\n",
    "    except IndexError:\n",
    "        return 0\n",
    "    except WordNetError:\n",
    "        return 0"
   ]
  },
  {
   "cell_type": "code",
   "execution_count": 9,
   "metadata": {},
   "outputs": [],
   "source": [
    "# Calculate similarities\n",
    "pairs = [syn_pairs, ant_pairs, hyp_pairs]\n",
    "wup = [get_pair_similarity(pair) for x in pairs for pair in x]\n",
    "path = [get_path_similarity(pair) for x in pairs for pair in x]\n",
    "lch = [get_lch_similarity(pair) for x in pairs for pair in x]\n",
    "lch = [x for x in lch if x != None]\n",
    "\n",
    "awup = sum(wup) / len(wup)\n",
    "apath = sum(path) / len(path)\n",
    "alch = sum(lch) / len(lch)"
   ]
  },
  {
   "cell_type": "code",
   "execution_count": 10,
   "metadata": {},
   "outputs": [
    {
     "data": {
      "text/markdown": [
       "\n",
       "|Method|Average|\n",
       "|---|---|\n",
       "|WUP|0.4539|\n",
       "|Path|0.1613|\n",
       "|LCH|1.5045|\n",
       "|webjaccard|0.1068|\n"
      ],
      "text/plain": [
       "<IPython.core.display.Markdown object>"
      ]
     },
     "execution_count": 10,
     "metadata": {},
     "output_type": "execute_result"
    }
   ],
   "source": [
    "# Present in markdown table\n",
    "Markdown(\n",
    "    \"\"\"\n",
    "|Method|Average|\n",
    "|---|---|\n",
    "|WUP|{:.4f}|\n",
    "|Path|{:.4f}|\n",
    "|LCH|{:.4f}|\n",
    "|webjaccard|{:.4f}|\n",
    "\"\"\".format(\n",
    "        awup, apath, alch, total[0]\n",
    "    )\n",
    ")"
   ]
  },
  {
   "cell_type": "markdown",
   "metadata": {},
   "source": [
    "# 4 Snippets"
   ]
  },
  {
   "cell_type": "code",
   "execution_count": 11,
   "metadata": {},
   "outputs": [
    {
     "name": "stdout",
     "output_type": "stream",
     "text": [
      "['Electrical engineering is an engineering discipline concerned with the study, design, and application of equipment, devices, and systems which use electricity, electronics, and electromagnetism.', 'Electrical engineering is an engineering field focused on electricity and electronics, from microscopic computer components to large power networks. Students who graduate with an electrical engineering majors will have job opportunities in wide-ranging fields, from telecommunications to the computer industry to the automotive industry.', 'Electrical engineers are inventors, designers and builders who understand how to manipulate currents and voltages in creative ways that advance technology. Like all areas of engineering, this...', 'Unit 1: Introduction to electrical engineering Getting started Unit 2: Circuit analysis Circuit elements Resistor circuits DC circuit analysis Natural and forced response AC circuit analysis Unit 3: Amplifiers Operational amplifier Unit 4: Semiconductor devices Diode Unit 5: Electrostatics', 'Electrical engineers specialize in designing, developing, and testing electrical equipment and systems. These systems can include everything from large-scale power grids and communication networks to smaller electronic devices such as smartphones and laptops.', \"In this Bachelor of Science in Engineering in electrical engineering, you'll develop engineering skills with a focus on the design of electric power systems, electronics, signal processing algorithms, antennas and semiconductor devices.\", \"Electrical engineering courses teach the use of electronics to create, convey, and manipulate information. You'll master the basics of circuits and signal processing, then move on to advanced subtopics such as microelectronics, telecommunications, and power and control engineering.... SHOW ALL Mechanical Engineering Chemistry\", 'Electrical engineering may be said to have emerged as a discipline in 1864 when the Scottish physicist James Clerk Maxwell summarized the basic laws of electricity in mathematical form and showed that radiation of electromagnetic energy travels through space at the speed of light. Thus, light itself was shown to be an electromagnetic wave, and ...', 'A summary of the math and science preparation that will help you have the best experience with electrical engineering taught on Khan Academy. Become familiar with engineering numbers and notation, and learn about the two most important electrical quantities: current and voltage.', 'Electrical Engineering Undergraduate Program Graduate Harvard University is devoted to excellence in teaching, learning, and research, and to developing leaders in many disciplines who make a difference globally.']\n"
     ]
    }
   ],
   "source": [
    "from requests_html import HTMLSession\n",
    "from selenium import webdriver\n",
    "from selenium.webdriver.chrome.options import Options\n",
    "\n",
    "# Using duckduckgo instead of google since it has longer snippets.\n",
    "# Requires rendering results with javascript, therefore render with selenium!\n",
    "\n",
    "opts = Options()\n",
    "opts.add_argument(\"--headless\")\n",
    "driver = webdriver.Chrome(options=opts)\n",
    "\n",
    "\n",
    "def get_snippets(query: str):\n",
    "    baseurl = \"https://www.duckduckgo.com/?q=\"\n",
    "    url = baseurl + query\n",
    "    driver.get(url)\n",
    "    soup = BeautifulSoup(driver.page_source, \"lxml\")\n",
    "    try:\n",
    "        results = soup.find_all(attrs={\"data-result\": \"snippet\"})\n",
    "        return [result.text for result in results]\n",
    "    except Exception as e:\n",
    "        print(e)\n",
    "        return results\n",
    "\n",
    "\n",
    "res = get_snippets(\"electrical_engineering\")\n",
    "print(res)"
   ]
  },
  {
   "cell_type": "markdown",
   "metadata": {},
   "source": [
    "# 5 Snippet similarity"
   ]
  },
  {
   "cell_type": "code",
   "execution_count": 12,
   "metadata": {},
   "outputs": [],
   "source": [
    "import random\n",
    "\n",
    "# Pick a random pair from all *nyms and get the first 10 snippets.\n",
    "\n",
    "snippets = []\n",
    "all_pairs = [*syn_pairs, *ant_pairs, *hyp_pairs]\n",
    "pair = all_pairs[random.randint(0, len(all_pairs)) - 1]\n",
    "_n5_pair = pair\n",
    "p_snips = get_snippets(pair[0])\n",
    "q_snips = get_snippets(pair[1])"
   ]
  },
  {
   "cell_type": "code",
   "execution_count": 13,
   "metadata": {},
   "outputs": [
    {
     "name": "stdout",
     "output_type": "stream",
     "text": [
      "[['analysis', 'noun', 'detailed', 'examination', 'anything', 'complex', 'order', 'understand', 'nature', 'determine', 'essential', 'features', '', 'thorough', 'study', 'statement', 'examination'], ['analysis', 'pl', 'analyses', 'process', 'breaking', 'complex', 'topic', 'substance', 'smaller', 'parts', 'order', 'gain', 'better', 'understanding', 'it', 'technique', 'applied', 'study', 'mathematics', 'logic', 'since', 'aristotle', '384322', 'bc', 'though', 'analysis', 'formal', 'concept', 'relatively', 'recent', 'development'], ['analysis', 'definition', 'separating', 'material', 'abstract', 'entity', 'constituent', 'elements', 'opposed', 'synthesis', 'see', 'more'], ['analysis', 'meaning', '1', 'act', 'studying', 'examining', 'something', 'detail', 'order', 'discover', 'understand', 'more…', 'learn', 'more'], ['use', 'noun', 'analysis', 'refer', 'way', 'understand', 'something', 'looking', 'different', 'ways', 'studying', 'different', 'parts'], ['synonyms', 'analysis', 'investigation', 'inspection', 'assessment', 'examination', 'evaluation', 'dissection', 'breakdown', 'deconstruction', 'antonyms', 'analysis', 'synthesis', ''], ['', 'careful', 'study', 'something', 'learn', 'parts', 'do', 'related', 'other', 'count', 'scientific', 'analysis', 'data', 'makedoperform', 'chemical', 'analysis', 'soil', 'detailed', 'analysis', 'bone', 'structure', 'horses', 'noncount', 'performing', 'chemical', 'analysis', 'soil', '—', 'see', 'also', 'systems', 'analysis'], ['analysis', 'cognitive', 'activity', 'cannot', 'coherently', 'understood', 'except', 'recourse', 'intuition', 'nondiscursive', 'context', 'analysis', 'ibid', '27', '§12', '§58', 'conceptual', 'analysis', 'rooted', 'intuitions', 'cannot', 'replaced', 'process', 'analysis', 'regulate', 'process', 'ibid', '48', '§12', '§58'], ['analysis', 'always', 'heart', 'philosophical', 'method', 'understood', 'practised', 'many', 'different', 'ways', 'perhaps', 'broadest', 'sense', 'might', 'defined', 'process', 'isolating', 'working', 'back', 'fundamental', 'means', 'something', 'initially', 'taken', 'given', 'explained', 'reconstructed'], ['analysis', 'definition', 'analysis', 'process', 'considering', 'something', 'carefully', 'using', 'statistical', 'methods', '', 'meaning', 'pronunciation', 'translations', 'examples']]\n",
      "[['analysi', 'noun', 'detail', 'examin', 'anyth', 'complex', 'order', 'understand', 'natur', 'determin', 'essenti', 'featur', 'thorough', 'studi', 'statement', 'examin'], ['analysi', 'pl', 'analys', 'process', 'break', 'complex', 'topic', 'substanc', 'smaller', 'part', 'order', 'gain', 'better', 'understand', 'it', 'techniqu', 'appli', 'studi', 'mathemat', 'logic', 'sinc', 'aristotl', '384322', 'bc', 'though', 'analysi', 'formal', 'concept', 'relat', 'recent', 'develop'], ['analysi', 'definit', 'separ', 'materi', 'abstract', 'entiti', 'constitu', 'element', 'oppos', 'synthesi', 'see', 'more'], ['analysi', 'mean', '1', 'act', 'studi', 'examin', 'someth', 'detail', 'order', 'discov', 'understand', 'more…', 'learn', 'more'], ['use', 'noun', 'analysi', 'refer', 'way', 'understand', 'someth', 'look', 'differ', 'way', 'studi', 'differ', 'part'], ['synonym', 'analysi', 'investig', 'inspect', 'assess', 'examin', 'evalu', 'dissect', 'breakdown', 'deconstruct', 'antonym', 'analysi', 'synthesi'], ['care', 'studi', 'someth', 'learn', 'part', 'do', 'relat', 'other', 'count', 'scientif', 'analysi', 'data', 'makedoperform', 'chemic', 'analysi', 'soil', 'detail', 'analysi', 'bone', 'structur', 'hors', 'noncount', 'perform', 'chemic', 'analysi', 'soil', '—', 'see', 'also', 'system', 'analysi'], ['analysi', 'cognit', 'activ', 'cannot', 'coher', 'understood', 'except', 'recours', 'intuit', 'nondiscurs', 'context', 'analysi', 'ibid', '27', '§12', '§58', 'conceptu', 'analysi', 'root', 'intuit', 'cannot', 'replac', 'process', 'analysi', 'regul', 'process', 'ibid', '48', '§12', '§58'], ['analysi', 'alway', 'heart', 'philosoph', 'method', 'understood', 'practis', 'mani', 'differ', 'way', 'perhap', 'broadest', 'sens', 'might', 'defin', 'process', 'isol', 'work', 'back', 'fundament', 'mean', 'someth', 'initi', 'taken', 'given', 'explain', 'reconstruct'], ['analysi', 'definit', 'analysi', 'process', 'consid', 'someth', 'care', 'use', 'statist', 'method', 'mean', 'pronunci', 'translat', 'exampl']]\n"
     ]
    }
   ],
   "source": [
    "# nltk.download(\"stopwords\")\n",
    "from nltk.corpus import stopwords\n",
    "import re\n",
    "import string\n",
    "\n",
    "# Preprocessing steps\n",
    "\n",
    "# Stopword removal\n",
    "chars = \"[\" + re.escape(string.punctuation) + \"]\"\n",
    "\n",
    "stops = stopwords.words(\"english\")\n",
    "\n",
    "q_sents = [snip.split(\" \") for snip in q_snips]\n",
    "p_sents = [snip.split(\" \") for snip in p_snips]\n",
    "q_filtered = []\n",
    "for sent in q_sents:\n",
    "    q_filtered.append(\n",
    "        [re.sub(chars, \"\", word.lower()) for word in sent if not word.lower() in stops]\n",
    "    )\n",
    "p_filtered = []\n",
    "for sent in p_sents:\n",
    "    p_filtered.append(\n",
    "        [re.sub(chars, \"\", word.lower()) for word in sent if not word.lower() in stops]\n",
    "    )\n",
    "\n",
    "# Stemming\n",
    "from nltk.stem import SnowballStemmer\n",
    "\n",
    "stemmer = SnowballStemmer(\"english\")\n",
    "print(p_filtered)\n",
    "p = []\n",
    "q = []\n",
    "for sent in p_filtered:\n",
    "    p.append([stemmer.stem(word) for word in sent if word not in [\"...\", \"\"]])\n",
    "for sent in q_filtered:\n",
    "    q.append([stemmer.stem(word) for word in sent if word not in [\"...\", \"\"]])\n",
    "print(p)"
   ]
  },
  {
   "cell_type": "code",
   "execution_count": 14,
   "metadata": {},
   "outputs": [],
   "source": [
    "# Calculating common, unique words requires flattening the snippets to 1d array\n",
    "all_words = set([word for sent in q + p for word in sent])\n",
    "q_words = set([word for sent in q for word in sent])\n",
    "p_words = set([word for sent in p for word in sent])\n",
    "\n",
    "common_words = set(\n",
    "    [word for sent in q + p for word in sent if word in q_words and word in p_words]\n",
    ")\n",
    "ratio = len(common_words) / len(all_words)"
   ]
  },
  {
   "cell_type": "code",
   "execution_count": 15,
   "metadata": {},
   "outputs": [
    {
     "data": {
      "text/markdown": [
       "\n",
       "|Method|Average|\n",
       "|---|---|\n",
       "|WUP|0.4539|\n",
       "|Path|0.1613|\n",
       "|LCH|1.5045|\n",
       "|webjaccard|0.1068|\n",
       "|Sim_snippet1|0.1012|\n"
      ],
      "text/plain": [
       "<IPython.core.display.Markdown object>"
      ]
     },
     "execution_count": 15,
     "metadata": {},
     "output_type": "execute_result"
    }
   ],
   "source": [
    "# Present results in markdown table\n",
    "Markdown(\n",
    "    \"\"\"\n",
    "|Method|Average|\n",
    "|---|---|\n",
    "|WUP|{:.4f}|\n",
    "|Path|{:.4f}|\n",
    "|LCH|{:.4f}|\n",
    "|webjaccard|{:.4f}|\n",
    "|Sim_snippet1|{:.4f}|\n",
    "\"\"\".format(\n",
    "        awup, apath, alch, total[0], ratio\n",
    "    )\n",
    ")"
   ]
  },
  {
   "cell_type": "markdown",
   "metadata": {},
   "source": [
    "# 6.1 Opposing snippets - share %"
   ]
  },
  {
   "cell_type": "code",
   "execution_count": 16,
   "metadata": {},
   "outputs": [
    {
     "name": "stdout",
     "output_type": "stream",
     "text": [
      "[([\"Minimalist Living Tips Overcome scarcity thinking Be in sync with others Know what you don't Eliminate clutter Indulge in simple pleasures Think like a stoic Create a realistic routine Develop a life philosophy Elevate your mindset Consider meditation alternatives Improve your relationship with money Streamline your personal style\", \"In other words, minimalist living would be a life-changing and life-giving realization. Unfortunately, for some, the idea of minimalism is just too counter-intuitive. It's an approach to life they have never been introduced to or have never been invited to explore. The benefits of minimalist living have never been articulated.\", 'As such, minimalist living typically involves decluttering, organizing, and \"minimizing\" your home — all in order to lead a simpler, more purposeful lifestyle. Benefits of minimalist living: If...', \"Minimalist living is a stress-free way of living when you simplify your life. Fewer belongings, more space, less quantity, and more quality- who wouldn't want all of those things? We used to look around our house and feel like we didn't own our things- our things owned us. They took up so much space in our house!\", 'WHY MINIMALISM? One of the primary steps people take as they begin gravitating toward minimalism is to get rid of unnecessary items in their homes. Most of us would be shocked at how much stuff we accumulate simply by living somewhere for a few years or more.', \"Becoming Minimalist inspires others to journey towards simple living. Own less, live more. Own less. Live more. Finding minimalism in a world of consumerism. About; Popular ... we don't have to keep living this way. There's a simpler, more freeing path ahead. Owning less and making more room for what truly matters.\", 'Minimalist living—or simplistic living—is nothing new. The concept, which involves freeing yourself from clutter and, to put it colloquially, \"stuff,\" has been around for some time. In fact, you can find mentions of minimalism throughout history. (Buddhists, for example, tend to shun material possessions, and have for thousands of years.)', 'At its core, being a minimalist means intentionally promoting the things we most value and removing everything that distracts us from it. It is a life that forces intentionality upon us. As a result, it forces improvements in almost all aspects of your life.', '5 Easiest Vegetables To Grow Simple Greywater Systems What Is Minimalism Why Minimalism Is Popular Types of Minimalism Becoming A Minimalist Steps To Minimalism Minimalist Cleaning Minimalist Wardrobe Workout Routine Minimalist Jobs Minimalist Night Routine Minimalist Daily Routine Minimalist Travel Minimalist Dating Minimalist Gifting', 'Minimalists argue that living with less enables us to make room for more freedom and contentment (Credit: Alamy) Bitten by the minimalism bug, they decluttered and jettisoned 90% of their...'], ['Maximalist rooms are artfully decorated with a \"more is more\" philosophy, whether this involves displaying an expansive collection, mixing and matching a variety of colors and patterns, or filling a wall with artwork. As designer Chad Graci says, \"Maximalism wants bold, bold, BOLD.', 'What is maximalist interior design? \"If you\\'ve heard of minimalist design, it\\'s the opposite,\" Hopp says of maximalism. Maximalist interiors often emulate the richer parts of life. It\\'s a...', '1. Add maximalist decor to your living room (Image credit: Jonathan Bond) To make the most of a modest space, the rule of thumb has traditionally been subtle decor. However, we are seeing interior designers throwing out the rule book, creating joyful maximalist schemes in compact rooms.', '4. Extra eclectic YouTube This space has an eclectic gallery wall that displays many different textured pieces such as deer mounts, flat artwork, a clock, and other sculptures. 5. Striped wallpaper YouTube Many maximalist spaces use patterned wallpaper to bring in more color and texture.', 'Maximalism is a gorgeous home decor style that supposes lots of color, pattern, various styles and epochs mixed in one to create a unique space. This is new eclectics that went absolutely wild and many homeowners enjoy that!', \"Things like color, texture, patterns and shapes come alive in a maximalist room, harmonizing to create a space that feels fun and personal. These details will fight for your attention in the best ways, leaving endless opportunities for the eye to explore each element. Here are some maximalist living rooms we can't stop staring at. 01 of 10\", 'A Brief History Maximalism is by no means a modern trend; maximalists have existed across the globe for centuries. \"Wealthy people throughout history have practiced forms of maximalism as ways to showcase their riches,\" notes Alessandra Wood, vice president of style at interior design service Modsy.', '01 of 21 Unique Design Style Annie Schlechter Maximalist design is all about showing off your personality and decorating with what you love. Feel free to mix styles, eras, colors, and patterns to create your own unique mix. Breaking traditional design \"rules\" is part of what makes maximalism fun. 02 of 21 Maximalist Color Schemes David A. Land', 'How to Design a Maximalist Living Room, According to Dabito. Cue the color, pattern, and plants! Los Angeles-based Dabito worked as a graphic designer, photographer, and flight attendant for an international airline before launching his interior design blog, Old Brand New, in 2010. His style is maximalist and eclectic, filled with color ...', 'Maximalism by definition. True to the age-old adage of \"what goes around, comes around,\" the resurgence of maximalist decor is, in fact, nothing new. The more-is-more mentality gained traction in the early 1980s with the onset of the bold, unconventional design work of Ettore Sottsass and the Memphis Group out of Milan, Italy.']), (['Open source software is software with source code that anyone can inspect, modify, and enhance. Learn how open source software differs from proprietary software, why people prefer it, and how it relates to cloud computing and the Internet.', 'Open-source software ( OSS) is computer software that is released under a license in which the copyright holder grants users the rights to use, study, change, and distribute the software and its source code to anyone and for any purpose. [1] [2] Open-source software may be developed in a collaborative, public manner.', 'We list the best open source software, to make it simple and easy to do everyday business tasks without the cost of license fees. Skip to main content Tech Radar Tech Radar Pro Tech Radar Gaming...', 'SourceForge is a community resource that helps open source projects be successful by offering tools for creating, collaborating, and distributing software. You can also find and compare, download, and review business software and IT services on SourceForge.', \"Incubating Project s ¶. The Apache Incubator is the primary entry path into The Apache Software Foundation for projects and their communities wishing to become part of the Foundation's efforts. All code donations from external organisations and existing external projects seeking to join the Apache community enter through the Incubator. Answer.\", 'What is open source software? Open source software is software develped and maintained via open collaboration, and made available, typically at no cost, for anyone to use, examine, alter and redistribute however they like.', 'Open source software is code that is designed to be publicly accessible—anyone can see, modify, and distribute the code as they see fit. Open source software is developed in a decentralized and collaborative way, relying on peer review and community production.', 'Key principles of open source software development. Guided by the key principles of transparency, collaboration, and decentralization, the open source software model creates code from the community—and community from the code.. Collaboration. Unlike closed source software, OSS is not only available for anyone to use, but also to build on.', 'The Open Source Definition is the foundation of the modern software ecosystem. We build a world where the freedoms and opportunities of Open Source software can be enjoyed by all. Learn more The leading voice on the policies and principles of open source Protecting the Open Source ecosystem', 'What is open source software? Published May 11, 2022 • 4-minute read Copy URL Jump to section Overview Is it free? FOSS vs proprietary Why does it matter? Overview Open source software is released through a specific kind of license that makes its source code legally available to end-users.'], ['Closed-source software (proprietary software) is software whose author owns all rights to use, modify, and copy it. Software products that do not meet the requirements for are generally categorized as closed-source software. Creators of closed-source software products control access to the source code of their programs.', 'Closed-source software The primary business model for closed-source software involves the use of constraints on what can be done with the software and the restriction of access to the original source code. [6] This can result in a form of imposed artificial scarcity on a product that is otherwise very easy to copy and redistribute.', 'Learn the difference between open source software and closed source software, two types of computer software with different levels of access to the source code. See the advantages, disadvantages, and examples of each type of software in various domains. Compare the advantages and disadvantages of open source software with closed source software and find out which one suits your needs.', \"Closed source code is only available to a restricted audience, like classified information. This article will provide a detailed overview of the differences between open source vs closed source software. We'll look at definitions, explore pros and cons, and cover similarities and differences.\", 'Closed-source software is software whose use comes with restrictions, primarily the inability to see the source code. You only have access to the binary file. Closed-source software is also known as proprietary software. This is because the software developers regard the source code as private, proprietary information.', 'Since then, many popular end-user programs such as Firefox, LibreOffice, and Thunderbird often replace, or rival, closed-source programs such as Internet Explorer, Microsoft Office, and Outlook. While open-source software is successful for desktop users, where it really shines is in server and service software.', \"With closed source software (also known as proprietary software), the public is not given access to the source code, so they can't see or modify it in any way. But with open source software, the source code is publicly available to anyone who wants it, and programmers can read or change that code if they desire.\", 'Closed source means computer programs whose source code is not published except to licensees. It is available to be modified only by the organization that developed it and those licensed to use the software.', 'Open and closed source software Open and closed source software Software can be open source or closed source, depending on how it is distributed. You will learn about the differences between them in this section. A Level Closed source A Level Open source A Level Comparison of open and closed source software Related questions', 'Open source software is the result of an open source development model. The open source development model is decentralized and encourages open collaboration and peer production. It has influenced a broader movement in software development, and people often refer to its core principles as \"the open source way.\"']), ([\"Democracy is a system of government in which power is vested in the people and exercised by them directly or through freely elected representatives. The term is derived from the Greek 'demokratia,' which was coined in the 5th century BCE to denote the political systems of some Greek city-states, notably Athens.\", \"Definition of 'regime' regime (reɪʒiːm ) countable noun If you refer to a government or system of running a country as a regime, you are critical of it because you think it is not democratic and uses unacceptable methods. [...] [disapproval] See full entry for 'regime'\", 'The implementation of a democratic government within a non-democratic state is typically brought about by democratic revolution. Democracy promotion. Banner in Hong Kong asking for democracy, August 2019. Several philosophers and researchers have outlined historical and social factors seen as supporting the evolution of democracy. ...', 'Democracy, literally meaning \"rule by the people,\" empowers individuals to exercise political control over the form and functions of their government. While democracies come in several forms, they all feature competitive elections, freedom of expression, and protection of individual civil liberties and human rights.', 'Democratization, process through which a political regime becomes democratic. Interest in democratization is due in part to the association between democracy and many important positive outcomes, including respect for human rights, economic prosperity, and security.', 'What is Democratic Regime? Definition of Democratic Regime: Government institutions originate from free and fair elections while civil liberties (speech, religion, association, press, assembly, and due process rights) and political rights are respected.', 'Sep 10, 2022The government seated in Washington, D.C., represents a democratic republic, which governs a federated union of states, each of which in turn has its own democratic-republican government for its ...', \"Democracy is broadly understood to mean 'rule by the people'. In practice, it is often defined as people choosing their leaders in free and fair elections. Other definitions go beyond this. For example, some of them see democracy as people having additional individual rights and being protected from the state.\", 'democracy: [noun] a government in which the supreme power is vested in the people and exercised by them directly or indirectly through a system of representation usually involving periodically held free elections.', 'The Life and Death of Democracy. New York: W. W. Norton, 2009. A comprehensive and highly accessible historical account of the origins and development of democratic government and ideals. Shapiro, Ian. The State of Democratic Theory. Princeton, NJ: Princeton University Press, 2003. A critical survey of the state of contemporary democratic theory.'], ['Authoritarian regimes are systems of government that have no established mechanism for the transfer of executive power and do not afford their citizens civil liberties or political rights. Power is concentrated in the hands of a single leader or a small elite, whose decisions are taken without regard for the will of the people.', 'The political scientist Juan Linz, in an influential [8] 1964 work, An Authoritarian Regime: Spain, defined authoritarianism as possessing four qualities: Limited political pluralism, which is achieved with constraints on the legislature, political parties and interest groups.', 'Definitions of authoritarian regime noun a government that concentrates political power in an authority not responsible to the people synonyms: authoritarian state see more Cite this entry Style: MLA \"Authoritarian regime.\" Vocabulary.com Dictionary, Vocabulary.com, https://www.vocabulary.com/dictionary/authoritarian regime. Accessed 11 Oct. 2023.', 'Types of authoritarian governments include absolute monarchy, military dictatorship, and ideologically-based regimes. An authoritarian government is a government that is not chosen by the people and has absolute power to govern as it pleases, without consulting the people that they rule.', \"On authoritarianism in America: In this country, you have a major political party, that has completely gone off the deep end. They're literally setting up a playbook where they can overturn the results of an election through the laws they're are passing at the state level.\", 'Evolutionary Governance in China: State-Society Relations under Authoritarianism edited by Szu-chien Hsu, Kellee S. Tsai, and Chun-chih Chang Harvard University Press, 2021, 400 pages Ruling by Other Means: State-Mobilized Movements edited by Grzegorz Ekiert, Elizabeth J. Perry, and Yan Xiaojun Cambridge University Press, 2020, 362 pages', 'According to Linz, authoritarian regimes are characterized by four defining traits: (1) limited, nonresponsible, political pluralism; (2) the absence of an elaborate and guiding ideology, having instead \"distinctive mentalities\"; (3) the absence of both intensive and extensive political mobilization; and (4) the exercise of power within formally...', 'What Is Authoritarianism? Totalitarian vs. Authoritarian Governments What Is Fascism? By Robert Longley Updated on March 02, 2022 Totalitarianism, authoritarianism, and fascism are all forms of government characterized by a strong central rule that attempts to control and direct all aspects of individual life through coercion and repression.', \"Authoritarian - a form of government in which state authority is imposed onto many aspects of citizens' lives. Commonwealth - a nation, state, or other political entity founded on law and united by a compact of the people for the common good.\", 'Introduction There has been an upsurge in the study of comparative authoritarianism since the 1990s, which has led to a number of novel arguments, some still in the evolving stage, and to the identification of new forms of authoritarian rule.'])]\n"
     ]
    }
   ],
   "source": [
    "# Get snippets for chosen query pairs\n",
    "query_pairs = [\n",
    "    (\"minimalist living\", \"maximalist living\"),\n",
    "    (\"open source software\", \"closed source software\"),\n",
    "    (\"democratic regime\", \"authoritarian regime\"),\n",
    "]\n",
    "\n",
    "results = []\n",
    "for pair in query_pairs:\n",
    "    a = get_snippets(pair[0])\n",
    "    b = get_snippets(pair[1])\n",
    "    results.append((a, b))\n",
    "print(results)"
   ]
  },
  {
   "cell_type": "code",
   "execution_count": 17,
   "metadata": {},
   "outputs": [],
   "source": [
    "%%script false --no-raise-error\n",
    "# Save snippets locally\n",
    "for i in range(len(query_pairs)):\n",
    "    with open(f\"data/snippets_a{i}\", \"w\") as file:\n",
    "        content = \"\\n\".join(results[i][0])\n",
    "        file.write(content)\n",
    "    with open(f\"data/snippets_b{i}\", \"w\") as file:\n",
    "        content = \"\\n\".join(results[i][1])\n",
    "        file.write(content)"
   ]
  },
  {
   "cell_type": "code",
   "execution_count": 18,
   "metadata": {},
   "outputs": [
    {
     "name": "stdout",
     "output_type": "stream",
     "text": [
      "[0, 0, 0]\n"
     ]
    }
   ],
   "source": [
    "# Calculate how many 'shared' snippets exist between pairs\n",
    "shared = []\n",
    "for res in results:\n",
    "    count = 0\n",
    "    for snippet in res[0]:\n",
    "        if snippet in res[1]:\n",
    "            count += 1\n",
    "    shared.append(count)\n",
    "print(shared)"
   ]
  },
  {
   "cell_type": "markdown",
   "metadata": {},
   "source": [
    "# 6.2 Opposing snippets - Similarity %"
   ]
  },
  {
   "cell_type": "code",
   "execution_count": 19,
   "metadata": {},
   "outputs": [],
   "source": [
    "from thefuzz import fuzz\n",
    "\n",
    "# Using token_set_ratio, as it ignores token order and common words. This should leave only the important words to compare!\n",
    "\n",
    "fuzz_ratios = []\n",
    "for pair in results:\n",
    "    (a, b) = pair\n",
    "    pair_ratios = []\n",
    "    for snip_a in a:\n",
    "        for snip_b in b:\n",
    "            pair_ratios.append(fuzz.token_set_ratio(snip_a, snip_b))\n",
    "    fuzz_ratios.append(pair_ratios)\n",
    "\n",
    "avg_pair_ratios = [sum(ratios) / len(ratios) for ratios in fuzz_ratios]"
   ]
  },
  {
   "cell_type": "code",
   "execution_count": 20,
   "metadata": {},
   "outputs": [
    {
     "data": {
      "text/markdown": [
       "\n",
       "|Pair|Sim_snippet2|\n",
       "|---|---:|\n",
       "|minimalist living vs. maximalist living|48.99|\n",
       "|open source software vs. closed source software|55.26|\n",
       "|democratic regime vs. authoritarian regime|48.98|\n"
      ],
      "text/plain": [
       "<IPython.core.display.Markdown object>"
      ]
     },
     "execution_count": 20,
     "metadata": {},
     "output_type": "execute_result"
    }
   ],
   "source": [
    "# Present results in markdown table\n",
    "magic = []\n",
    "for i in range(len(fuzz_ratios)):\n",
    "    magic.append(\" vs. \".join(query_pairs[i]))\n",
    "    magic.append(avg_pair_ratios[i])\n",
    "Markdown(\n",
    "    \"\"\"\n",
    "|Pair|Sim_snippet2|\n",
    "|---|---:|\n",
    "|{}|{:.2f}|\n",
    "|{}|{:.2f}|\n",
    "|{}|{:.2f}|\n",
    "\"\"\".format(\n",
    "        *magic\n",
    "    )\n",
    ")"
   ]
  },
  {
   "cell_type": "markdown",
   "metadata": {},
   "source": [
    "# 7 Sim_snip2 on syn-,ant-,hypernyms"
   ]
  },
  {
   "cell_type": "code",
   "execution_count": 21,
   "metadata": {},
   "outputs": [],
   "source": [
    "# Calculate same as above for the randomly chosen pair in #5\n",
    "prev_pair_ratios = []\n",
    "for snip_a in a:\n",
    "    for snip_b in b:\n",
    "        prev_pair_ratios.append(fuzz.token_set_ratio(snip_a, snip_b))\n",
    "\n",
    "n5_avg = sum(prev_pair_ratios) / len(prev_pair_ratios)"
   ]
  },
  {
   "cell_type": "code",
   "execution_count": 22,
   "metadata": {},
   "outputs": [
    {
     "data": {
      "text/markdown": [
       "\n",
       "|Pair|Sim_snippet2|\n",
       "|---|---:|\n",
       "|analysis vs.experiment|48.98|\n",
       "\n"
      ],
      "text/plain": [
       "<IPython.core.display.Markdown object>"
      ]
     },
     "execution_count": 22,
     "metadata": {},
     "output_type": "execute_result"
    }
   ],
   "source": [
    "# Present markdown table\n",
    "Markdown(\n",
    "    \"\"\"\n",
    "|Pair|Sim_snippet2|\n",
    "|---|---:|\n",
    "|{}|{:.2f}|\n",
    "\n",
    "\"\"\".format(\n",
    "        \" vs.\".join(_n5_pair), n5_avg\n",
    "    )\n",
    ")"
   ]
  },
  {
   "cell_type": "markdown",
   "metadata": {},
   "source": [
    "# 8 Pearson Correlation"
   ]
  },
  {
   "cell_type": "code",
   "execution_count": 70,
   "metadata": {},
   "outputs": [],
   "source": [
    "from scipy.stats import pearsonr\n",
    "\n",
    "# Manually comparing and giving snippets similarity values is hard, therefore limited to first 4 pairs in set 0.\n",
    "human_eval = [2, 4, 2, 1, 0, 1, 3, 1, 5, 3, 3, 1, 0, 1, 0, 1]  # 0-10\n",
    "(a, b) = results[0]\n",
    "ss2 = []\n",
    "ss1 = []\n",
    "for x in a[:4]:\n",
    "    for y in b[:4]:\n",
    "        ss2.append(fuzz.token_set_ratio(x, y))\n",
    "\n",
    "ss2_line, ss2_pval = pearsonr(human_eval, ss2)"
   ]
  },
  {
   "cell_type": "code",
   "execution_count": 134,
   "metadata": {},
   "outputs": [],
   "source": [
    "# Tokenization\n",
    "a_tokens = [sent.split(\" \") for sent in a]\n",
    "b_tokens = [sent.split(\" \") for sent in b]\n",
    "\n",
    "# stopword removal\n",
    "a_stop = []\n",
    "b_stop = []\n",
    "for sent in a_tokens:\n",
    "    a_stop.append(\n",
    "        [re.sub(chars, \"\", word.lower()) for word in sent if not word.lower() in stops]\n",
    "    )\n",
    "\n",
    "for sent in b_tokens:\n",
    "    b_stop.append(\n",
    "        [re.sub(chars, \"\", word.lower()) for word in sent if not word.lower() in stops]\n",
    "    )\n",
    "\n",
    "# stemming\n",
    "a_stem = []\n",
    "b_stem = []\n",
    "for sent in a_stop:\n",
    "    a_stem.append([stemmer.stem(word) for word in sent if word not in [\"...\", \"\"]])\n",
    "\n",
    "for sent in b_stop:\n",
    "    b_stem.append([stemmer.stem(word) for word in sent if word not in [\"...\", \"\"]])\n",
    "\n",
    "# Calculating the ratio\n",
    "ss1_ratios = []\n",
    "for n in a_stem[:4]:\n",
    "    for m in b_stem[:4]:\n",
    "        combined = set([word for word in n + m])\n",
    "        common = set([word for word in n + m if word in set(n) and word in set(m)])\n",
    "        ss1_ratios.append(len(common) / len(combined))\n",
    "\n",
    "ss1_line, ss1_pval = pearsonr(human_eval, ss1_ratios)"
   ]
  },
  {
   "cell_type": "code",
   "execution_count": 102,
   "metadata": {},
   "outputs": [
    {
     "data": {
      "text/markdown": [
       "\n",
       "|Method|Line multiplier|p-value|\n",
       "|---|---|---|\n",
       "|Synsim1|0.21|0.43|\n",
       "|Synsim2|-0.02|0.96|\n",
       "\n"
      ],
      "text/plain": [
       "<IPython.core.display.Markdown object>"
      ]
     },
     "execution_count": 102,
     "metadata": {},
     "output_type": "execute_result"
    }
   ],
   "source": [
    "# Present markdown table\n",
    "Markdown(\n",
    "    \"\"\"\n",
    "|Method|Line multiplier|p-value|\n",
    "|---|---|---|\n",
    "|Synsim1|{:.2f}|{:.2f}|\n",
    "|Synsim2|{:.2f}|{:.2f}|\n",
    "\n",
    "\"\"\".format(\n",
    "        ss1_line, ss1_pval, ss2_line, ss2_pval\n",
    "    )\n",
    ")"
   ]
  },
  {
   "cell_type": "code",
   "execution_count": 131,
   "metadata": {},
   "outputs": [
    {
     "data": {
      "text/plain": [
       "<BarContainer object of 16 artists>"
      ]
     },
     "execution_count": 131,
     "metadata": {},
     "output_type": "execute_result"
    },
    {
     "data": {
      "image/png": "[encoded data removed]",
      "text/plain": [
       "<Figure size 640x480 with 1 Axes>"
      ]
     },
     "metadata": {},
     "output_type": "display_data"
    }
   ],
   "source": [
    "from matplotlib import pyplot as plt\n",
    "import numpy as np\n",
    "\n",
    "fig, ax = plt.subplots()\n",
    "plt.xlabel(\"Pair index\")\n",
    "plt.ylabel(\"Synsim1 ratio\")\n",
    "plt.bar([x for x in range(len(ss1_ratios))], ss1_ratios)"
   ]
  },
  {
   "cell_type": "code",
   "execution_count": 133,
   "metadata": {},
   "outputs": [
    {
     "data": {
      "text/plain": [
       "<BarContainer object of 16 artists>"
      ]
     },
     "execution_count": 133,
     "metadata": {},
     "output_type": "execute_result"
    },
    {
     "data": {
      "image/png": "[encoded data removed]",
      "text/plain": [
       "<Figure size 640x480 with 1 Axes>"
      ]
     },
     "metadata": {},
     "output_type": "display_data"
    }
   ],
   "source": [
    "fig, ax = plt.subplots()\n",
    "plt.xlabel(\"Pair index\")\n",
    "plt.ylabel(\"Synsim2 ratio %\")\n",
    "plt.bar([x for x in range(len(ss2))], ss2)"
   ]
  }
 ],
 "metadata": {
  "kernelspec": {
   "display_name": "env",
   "language": "python",
   "name": "python3"
  },
  "language_info": {
   "codemirror_mode": {
    "name": "ipython",
    "version": 3
   },
   "file_extension": ".py",
   "mimetype": "text/x-python",
   "name": "python",
   "nbconvert_exporter": "python",
   "pygments_lexer": "ipython3",
   "version": "3.11.6"
  }
 },
 "nbformat": 4,
 "nbformat_minor": 2
}
